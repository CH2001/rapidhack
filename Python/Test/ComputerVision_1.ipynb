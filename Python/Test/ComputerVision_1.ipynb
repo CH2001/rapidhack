{
 "cells": [
  {
   "cell_type": "code",
   "execution_count": 1,
   "id": "d8ab652d-8e5f-4417-b898-ee5fdfd2a40a",
   "metadata": {},
   "outputs": [],
   "source": [
    "import cv2\n",
    "import random\n",
    "import numpy as np"
   ]
  },
  {
   "cell_type": "code",
   "execution_count": 23,
   "id": "850aec53-90b5-49d3-bb09-b8dd25826657",
   "metadata": {},
   "outputs": [
    {
     "name": "stdout",
     "output_type": "stream",
     "text": [
      "231\n",
      "272\n",
      "224\n",
      "38\n",
      "23\n"
     ]
    }
   ],
   "source": [
    "for person in person_list:\n",
    "    print(person[\"height\"])"
   ]
  },
  {
   "cell_type": "code",
   "execution_count": null,
   "id": "9194f4bd-2011-4531-90de-451e0fe67c49",
   "metadata": {},
   "outputs": [],
   "source": [
    "img = cv2.imread(\"asset/Bus_Delhi_1.jpg\", 1)\n",
    "img = cv2.resize(img, (0,0), fx=0.5, fy=0.5)\n",
    "\n",
    "person_list = []\n",
    "\n",
    "for index in range(1,6):\n",
    "    person = {}\n",
    "    im = cv2.imread(f\"asset/Person_{index}.jpg\", 0)\n",
    "    im = cv2.resize(im, (0,0), fx=0.5, fy=0.5)\n",
    "    h, w = im.shape\n",
    "\n",
    "    person[\"image\"]  = im\n",
    "    person[\"height\"] = h\n",
    "    person[\"width\"]  = w\n",
    "\n",
    "    person_list.append(person)\n",
    "\n",
    "methods = [\n",
    "    cv2.TM_CCOEFF,\n",
    "    cv2.TM_CCOEFF_NORMED,\n",
    "]\n",
    "\n",
    "for method in methods:\n",
    "    img2 = img.copy()\n",
    "    img2 = cv2.cvtColor(img2, cv2.COLOR_BGR2GRAY)\n",
    "\n",
    "    for person in person_list:\n",
    "        result = cv2.matchTemplate(img2, person[\"image\"], method)\n",
    "        min_val, max_val, min_loc, max_loc = cv2.minMaxLoc(result)\n",
    "        \n",
    "        person[\"location_1\"] = max_loc\n",
    "        person[\"location_2\"] = (max_loc[0] + person[\"width\"], max_loc[1] + person[\"height\"])\n",
    "    \n",
    "        cv2.rectangle(img, person[\"location_1\"], person[\"location_2\"], (255, 255, 255), 3)\n",
    "    \n",
    "    cv2.imshow(\"Match\",img)\n",
    "    cv2.waitKey(0)\n",
    "    cv2.destroyAllWindows()"
   ]
  },
  {
   "cell_type": "code",
   "execution_count": 38,
   "id": "f64f3905-b4b1-4cbc-b63e-6b3713ffdbb9",
   "metadata": {},
   "outputs": [
    {
     "name": "stdout",
     "output_type": "stream",
     "text": [
      "[[[239 231 205]\n",
      "  [230 211 242]\n",
      "  [225 239 218]\n",
      "  ...\n",
      "  [234 224 204]\n",
      "  [248 249 207]\n",
      "  [250 253 210]]\n",
      "\n",
      " [[209 231 209]\n",
      "  [244 247 251]\n",
      "  [211 245 239]\n",
      "  ...\n",
      "  [221 242 254]\n",
      "  [232 232 202]\n",
      "  [218 240 225]]\n",
      "\n",
      " [[211 236 232]\n",
      "  [202 246 223]\n",
      "  [215 232 245]\n",
      "  ...\n",
      "  [243 234 249]\n",
      "  [249 213 241]\n",
      "  [231 253 224]]\n",
      "\n",
      " ...\n",
      "\n",
      " [[207 251 241]\n",
      "  [213 231 226]\n",
      "  [214 238 244]\n",
      "  ...\n",
      "  [243 216 213]\n",
      "  [204 242 220]\n",
      "  [211 230 236]]\n",
      "\n",
      " [[213 216 202]\n",
      "  [212 219 237]\n",
      "  [211 222 231]\n",
      "  ...\n",
      "  [224 217 235]\n",
      "  [203 245 235]\n",
      "  [202 246 225]]\n",
      "\n",
      " [[247 219 210]\n",
      "  [221 250 230]\n",
      "  [238 203 242]\n",
      "  ...\n",
      "  [253 203 232]\n",
      "  [204 202 218]\n",
      "  [210 243 217]]]\n"
     ]
    }
   ],
   "source": [
    "print(img)"
   ]
  },
  {
   "cell_type": "code",
   "execution_count": 7,
   "id": "86806738-76bd-4725-ac9a-21a396251528",
   "metadata": {},
   "outputs": [
    {
     "name": "stdout",
     "output_type": "stream",
     "text": [
      "[[[255   0   0]\n",
      "  [255   0   0]]\n",
      "\n",
      " [[255   0   0]\n",
      "  [255   0   0]]]\n"
     ]
    },
    {
     "ename": "error",
     "evalue": "OpenCV(4.8.0) D:/a/opencv-python/opencv-python/opencv/modules/highgui/src/precomp.hpp:155: error: (-215:Assertion failed) src_depth != CV_16F && src_depth != CV_32S in function 'convertToShow'\n",
     "output_type": "error",
     "traceback": [
      "\u001b[1;31m---------------------------------------------------------------------------\u001b[0m",
      "\u001b[1;31merror\u001b[0m                                     Traceback (most recent call last)",
      "Cell \u001b[1;32mIn[7], line 5\u001b[0m\n\u001b[0;32m      1\u001b[0m BGR_COLOR \u001b[38;5;241m=\u001b[39m np\u001b[38;5;241m.\u001b[39marray([[[\u001b[38;5;241m255\u001b[39m,\u001b[38;5;241m0\u001b[39m,\u001b[38;5;241m0\u001b[39m],[\u001b[38;5;241m255\u001b[39m,\u001b[38;5;241m0\u001b[39m,\u001b[38;5;241m0\u001b[39m]],[[\u001b[38;5;241m255\u001b[39m,\u001b[38;5;241m0\u001b[39m,\u001b[38;5;241m0\u001b[39m],[\u001b[38;5;241m255\u001b[39m,\u001b[38;5;241m0\u001b[39m,\u001b[38;5;241m0\u001b[39m]]])\n\u001b[0;32m      3\u001b[0m \u001b[38;5;28mprint\u001b[39m(BGR_COLOR)\n\u001b[1;32m----> 5\u001b[0m \u001b[43mcv2\u001b[49m\u001b[38;5;241;43m.\u001b[39;49m\u001b[43mimshow\u001b[49m\u001b[43m(\u001b[49m\u001b[38;5;124;43m\"\u001b[39;49m\u001b[38;5;124;43mImage\u001b[39;49m\u001b[38;5;124;43m\"\u001b[39;49m\u001b[43m,\u001b[49m\u001b[43mBGR_COLOR\u001b[49m\u001b[43m)\u001b[49m\n\u001b[0;32m      6\u001b[0m cv2\u001b[38;5;241m.\u001b[39mwaitKey(\u001b[38;5;241m0\u001b[39m)\n\u001b[0;32m      7\u001b[0m cv2\u001b[38;5;241m.\u001b[39mdestroyAllWindows()\n",
      "\u001b[1;31merror\u001b[0m: OpenCV(4.8.0) D:/a/opencv-python/opencv-python/opencv/modules/highgui/src/precomp.hpp:155: error: (-215:Assertion failed) src_depth != CV_16F && src_depth != CV_32S in function 'convertToShow'\n"
     ]
    }
   ],
   "source": [
    "BGR_COLOR = np.array([[[255,0,0],[255,0,0]],[[255,0,0],[255,0,0]]])\n",
    "\n",
    "print(BGR_COLOR)\n",
    "\n",
    "cv2.imshow(\"Image\",BGR_COLOR)\n",
    "cv2.waitKey(0)\n",
    "cv2.destroyAllWindows()\n",
    "# x = cv2.cvtColor(BGR_COLOR, cv2.COLOR_BGR2HSV)\n",
    "\n",
    "\n",
    "\n",
    "cv2.imshow(\"Image\",BGR_COLOR)"
   ]
  },
  {
   "cell_type": "code",
   "execution_count": null,
   "id": "3a19b68a-25d1-4772-97a2-bf73e4046a95",
   "metadata": {},
   "outputs": [],
   "source": []
  }
 ],
 "metadata": {
  "kernelspec": {
   "display_name": "Python 3 (ipykernel)",
   "language": "python",
   "name": "python3"
  },
  "language_info": {
   "codemirror_mode": {
    "name": "ipython",
    "version": 3
   },
   "file_extension": ".py",
   "mimetype": "text/x-python",
   "name": "python",
   "nbconvert_exporter": "python",
   "pygments_lexer": "ipython3",
   "version": "3.11.5"
  }
 },
 "nbformat": 4,
 "nbformat_minor": 5
}
