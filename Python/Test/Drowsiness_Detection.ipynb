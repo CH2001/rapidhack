{
 "cells": [
  {
   "cell_type": "markdown",
   "id": "d24864c2-b3f9-40fc-899c-40d30008b913",
   "metadata": {},
   "source": [
    "# Import libraries"
   ]
  },
  {
   "cell_type": "code",
   "execution_count": 8,
   "id": "b5cf4d83-a1cb-45bb-bae3-97406c26bd55",
   "metadata": {},
   "outputs": [],
   "source": [
    "import cv2\n",
    "import numpy as np\n",
    "import pandas as pd\n",
    "import os\n",
    "\n",
    "import matplotlib.pyplot as plt"
   ]
  },
  {
   "cell_type": "code",
   "execution_count": 5,
   "id": "f999f1ab-6f3a-4305-b59f-368627dcfc02",
   "metadata": {},
   "outputs": [],
   "source": [
    "labels = os.listdir(r\"data\\\\train\")"
   ]
  },
  {
   "cell_type": "code",
   "execution_count": null,
   "id": "c6a87684-753a-4fcd-b0cc-4ebbf3b7a8f9",
   "metadata": {},
   "outputs": [],
   "source": []
  }
 ],
 "metadata": {
  "kernelspec": {
   "display_name": "rapid",
   "language": "python",
   "name": "rapid"
  },
  "language_info": {
   "codemirror_mode": {
    "name": "ipython",
    "version": 3
   },
   "file_extension": ".py",
   "mimetype": "text/x-python",
   "name": "python",
   "nbconvert_exporter": "python",
   "pygments_lexer": "ipython3",
   "version": "3.11.5"
  }
 },
 "nbformat": 4,
 "nbformat_minor": 5
}
